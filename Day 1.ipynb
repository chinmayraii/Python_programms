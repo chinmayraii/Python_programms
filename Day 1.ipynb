{
 "cells": [
  {
   "cell_type": "code",
   "execution_count": 3,
   "id": "870f60cc",
   "metadata": {},
   "outputs": [
    {
     "name": "stdout",
     "output_type": "stream",
     "text": [
      "100\n"
     ]
    }
   ],
   "source": [
    "# Biggest element in list\n",
    "\n",
    "a=[10,20,30,100,60,90]\n",
    "b=0\n",
    "for i in a:\n",
    "    if i>b:\n",
    "        b=i\n",
    "print(b)        "
   ]
  },
  {
   "cell_type": "code",
   "execution_count": 68,
   "id": "150387de",
   "metadata": {},
   "outputs": [
    {
     "name": "stdout",
     "output_type": "stream",
     "text": [
      "100\n"
     ]
    }
   ],
   "source": [
    "# largest and second largest element\n",
    "\n",
    "a=[10,20,30,100,60,90]\n",
    "b=0\n",
    "sb=0\n",
    "for i in a:\n",
    "    if i>b:\n",
    "        b=i\n",
    "for j in a:\n",
    "    if j>sb and j!=b:\n",
    "        sb=j\n",
    "print(b)\n",
    "print(sb)"
   ]
  },
  {
   "cell_type": "code",
   "execution_count": 5,
   "id": "9f4341dc",
   "metadata": {},
   "outputs": [
    {
     "name": "stdout",
     "output_type": "stream",
     "text": [
      "[90, 20, 50, 80, 10]\n"
     ]
    }
   ],
   "source": [
    "# interchange first and last element in list\n",
    "#method-1\n",
    "\n",
    "a=[10,20,50,80,90]\n",
    "c=a[0]\n",
    "a[0]=a[-1]\n",
    "a[-1]=c\n",
    "print(a)"
   ]
  },
  {
   "cell_type": "code",
   "execution_count": null,
   "id": "e1edb823",
   "metadata": {},
   "outputs": [],
   "source": [
    "# interchange first and last element in list\n",
    "#method -2\n",
    "\n",
    "a=[10,20,50,80,90]\n",
    "a[0],a[-1]=a[-1],a[0]\n",
    "print(a)"
   ]
  },
  {
   "cell_type": "code",
   "execution_count": 10,
   "id": "32fa1927",
   "metadata": {},
   "outputs": [
    {
     "name": "stdout",
     "output_type": "stream",
     "text": [
      " enter a number5\n",
      "exist\n"
     ]
    }
   ],
   "source": [
    "#Check element exists in list\n",
    "\n",
    "a=int(input(\" enter a number\"))\n",
    "list=[10,20,5,20,6,0,50]\n",
    "if a in list:\n",
    "    print(\"exist\")\n",
    "else:\n",
    "    print(\"not exist\")\n"
   ]
  },
  {
   "cell_type": "code",
   "execution_count": 15,
   "id": "40df2166",
   "metadata": {},
   "outputs": [
    {
     "name": "stdout",
     "output_type": "stream",
     "text": [
      " enter a number100\n",
      "Not exist\n"
     ]
    }
   ],
   "source": [
    "# element exists or not \n",
    "\n",
    "a=int(input(\" enter a number\"))\n",
    "list=[10,20,5,20,6,0,50]\n",
    "def check(a):\n",
    "    if a in list:\n",
    "        print(\"exist\")\n",
    "    else:\n",
    "        print(\"Not exist\")\n",
    "check(a)"
   ]
  },
  {
   "cell_type": "code",
   "execution_count": 28,
   "id": "6f7d9a93",
   "metadata": {},
   "outputs": [
    {
     "name": "stdout",
     "output_type": "stream",
     "text": [
      "[0, 5, 6, 10, 20, 20, 50]\n"
     ]
    }
   ],
   "source": [
    "# shorting of list\n",
    "\n",
    "a=[10,20,5,20,6,0,50]\n",
    "for i in range(0,len(a)):\n",
    "    for j in range(0,i+1):\n",
    "           if a[i]<a[j]:\n",
    "                t=a[i]\n",
    "                a[i]=a[j]\n",
    "                a[j]=t\n",
    "print(a)\n"
   ]
  },
  {
   "cell_type": "code",
   "execution_count": null,
   "id": "e5e62247",
   "metadata": {},
   "outputs": [],
   "source": []
  },
  {
   "cell_type": "code",
   "execution_count": 55,
   "id": "354a0d8c",
   "metadata": {},
   "outputs": [
    {
     "name": "stdout",
     "output_type": "stream",
     "text": [
      "    *\n",
      "   ***\n",
      "  *****\n",
      " *******\n",
      "*********\n"
     ]
    }
   ],
   "source": [
    "# pattern\n",
    "\n",
    "for i in range(1,6):\n",
    "    for k in range(1,6-i):\n",
    "        print(\" \",end=\"\")\n",
    "    for j in range(1,2*i):\n",
    "        print(\"*\",end=\"\")\n",
    "    print()"
   ]
  },
  {
   "cell_type": "code",
   "execution_count": 61,
   "id": "7b7626be",
   "metadata": {},
   "outputs": [
    {
     "name": "stdout",
     "output_type": "stream",
     "text": [
      "[]\n"
     ]
    }
   ],
   "source": [
    "a=[10,10,20,50,60,8,0]\n",
    "b=[]\n",
    "for i in a:\n",
    "    if i==a:\n",
    "        b.append(a[i])\n",
    "print(b)        "
   ]
  },
  {
   "cell_type": "code",
   "execution_count": 62,
   "id": "d0a24c51",
   "metadata": {},
   "outputs": [
    {
     "name": "stdout",
     "output_type": "stream",
     "text": [
      "['apple']\n"
     ]
    }
   ],
   "source": [
    "# pop in strings\n",
    "a=[\"apple\",\"banana\",\"mango\"]\n",
    "for i in a:\n",
    "    a.pop()\n",
    "print(a)    "
   ]
  },
  {
   "cell_type": "code",
   "execution_count": 66,
   "id": "cc247cfb",
   "metadata": {},
   "outputs": [
    {
     "name": "stdout",
     "output_type": "stream",
     "text": [
      "[1, 2, 3, 4, 5, 6, 7, 8, 9, 10]\n"
     ]
    }
   ],
   "source": [
    "# concat of two list\n",
    "\n",
    "a=[1,2,3,4,5,6]\n",
    "b=[7,8,9,10]\n",
    "c=[]\n",
    "for i in a:\n",
    "    c.append(i)\n",
    "for j in b:\n",
    "    c.append(j)\n",
    "print(c)    "
   ]
  },
  {
   "cell_type": "code",
   "execution_count": 111,
   "id": "40d5651d",
   "metadata": {},
   "outputs": [
    {
     "name": "stdout",
     "output_type": "stream",
     "text": [
      "vishakha\n"
     ]
    }
   ],
   "source": [
    "# to calculate largest of a string\n",
    "\n",
    "a=['chinmay','vishakha',\"harshad\"]\n",
    "# b=max(a)\n",
    "# print(b)\n",
    "print(max(a))\n",
    "    \n"
   ]
  },
  {
   "cell_type": "code",
   "execution_count": 123,
   "id": "1e6e1675",
   "metadata": {},
   "outputs": [
    {
     "name": "stdout",
     "output_type": "stream",
     "text": [
      "v\n"
     ]
    }
   ],
   "source": [
    "# to calculate largest of a string\n",
    "\n",
    "a=['g','v',\"a\"]\n",
    "# b=max(a)\n",
    "# print(b)\n",
    "print(max(a))"
   ]
  },
  {
   "cell_type": "code",
   "execution_count": 21,
   "id": "04ee4905",
   "metadata": {},
   "outputs": [
    {
     "name": "stdout",
     "output_type": "stream",
     "text": [
      "chinmayyyyy\n"
     ]
    }
   ],
   "source": [
    "s= ['chinmayyyyy','mango','apple']\n",
    "b=0\n",
    "for i in s:\n",
    "    if len(i)>b:\n",
    "        b=len(i)\n",
    "        c=i\n",
    "print(c)        "
   ]
  }
 ],
 "metadata": {
  "kernelspec": {
   "display_name": "Python 3 (ipykernel)",
   "language": "python",
   "name": "python3"
  },
  "language_info": {
   "codemirror_mode": {
    "name": "ipython",
    "version": 3
   },
   "file_extension": ".py",
   "mimetype": "text/x-python",
   "name": "python",
   "nbconvert_exporter": "python",
   "pygments_lexer": "ipython3",
   "version": "3.9.13"
  }
 },
 "nbformat": 4,
 "nbformat_minor": 5
}
