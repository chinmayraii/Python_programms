{
 "cells": [
  {
   "cell_type": "code",
   "execution_count": 54,
   "id": "a3e72932",
   "metadata": {},
   "outputs": [
    {
     "ename": "TypeError",
     "evalue": "can only concatenate list (not \"int\") to list",
     "output_type": "error",
     "traceback": [
      "\u001b[1;31m---------------------------------------------------------------------------\u001b[0m",
      "\u001b[1;31mTypeError\u001b[0m                                 Traceback (most recent call last)",
      "\u001b[1;32m~\\AppData\\Local\\Temp\\ipykernel_12868\\2077446537.py\u001b[0m in \u001b[0;36m<module>\u001b[1;34m\u001b[0m\n\u001b[0;32m      1\u001b[0m \u001b[0mn\u001b[0m\u001b[1;33m=\u001b[0m\u001b[1;33m[\u001b[0m\u001b[1;36m10\u001b[0m\u001b[1;33m,\u001b[0m\u001b[1;36m20\u001b[0m\u001b[1;33m,\u001b[0m\u001b[1;36m50\u001b[0m\u001b[1;33m,\u001b[0m\u001b[1;36m60\u001b[0m\u001b[1;33m]\u001b[0m\u001b[1;33m\u001b[0m\u001b[1;33m\u001b[0m\u001b[0m\n\u001b[0;32m      2\u001b[0m \u001b[0mm\u001b[0m\u001b[1;33m=\u001b[0m\u001b[1;36m1\u001b[0m\u001b[1;33m\u001b[0m\u001b[1;33m\u001b[0m\u001b[0m\n\u001b[1;32m----> 3\u001b[1;33m \u001b[1;32mfor\u001b[0m \u001b[0mi\u001b[0m \u001b[1;32min\u001b[0m \u001b[0mrange\u001b[0m\u001b[1;33m(\u001b[0m\u001b[1;36m0\u001b[0m\u001b[1;33m,\u001b[0m\u001b[0mn\u001b[0m\u001b[1;33m+\u001b[0m\u001b[1;36m1\u001b[0m\u001b[1;33m)\u001b[0m\u001b[1;33m:\u001b[0m\u001b[1;33m\u001b[0m\u001b[1;33m\u001b[0m\u001b[0m\n\u001b[0m\u001b[0;32m      4\u001b[0m     \u001b[0mm\u001b[0m\u001b[1;33m=\u001b[0m\u001b[0mm\u001b[0m\u001b[1;33m*\u001b[0m\u001b[0mi\u001b[0m\u001b[1;33m\u001b[0m\u001b[1;33m\u001b[0m\u001b[0m\n\u001b[0;32m      5\u001b[0m \u001b[0mprint\u001b[0m\u001b[1;33m(\u001b[0m\u001b[0mm\u001b[0m\u001b[1;33m)\u001b[0m\u001b[1;33m\u001b[0m\u001b[1;33m\u001b[0m\u001b[0m\n",
      "\u001b[1;31mTypeError\u001b[0m: can only concatenate list (not \"int\") to list"
     ]
    }
   ],
   "source": [
    "n=[10,20,50,60]\n",
    "m=1\n",
    "for i in range(0,n+1):\n",
    "    m=m*i\n",
    "print(m)    "
   ]
  },
  {
   "cell_type": "code",
   "execution_count": 4,
   "id": "a907030b",
   "metadata": {},
   "outputs": [
    {
     "ename": "TypeError",
     "evalue": "'<' not supported between instances of 'int' and 'list'",
     "output_type": "error",
     "traceback": [
      "\u001b[1;31m---------------------------------------------------------------------------\u001b[0m",
      "\u001b[1;31mTypeError\u001b[0m                                 Traceback (most recent call last)",
      "\u001b[1;32m~\\AppData\\Local\\Temp\\ipykernel_12868\\3686808455.py\u001b[0m in \u001b[0;36m<module>\u001b[1;34m\u001b[0m\n\u001b[0;32m      2\u001b[0m \u001b[0ms\u001b[0m\u001b[1;33m=\u001b[0m\u001b[1;33m[\u001b[0m\u001b[1;36m0\u001b[0m\u001b[1;33m]\u001b[0m\u001b[1;33m\u001b[0m\u001b[1;33m\u001b[0m\u001b[0m\n\u001b[0;32m      3\u001b[0m \u001b[1;32mfor\u001b[0m \u001b[0mi\u001b[0m \u001b[1;32min\u001b[0m \u001b[0mn\u001b[0m\u001b[1;33m:\u001b[0m\u001b[1;33m\u001b[0m\u001b[1;33m\u001b[0m\u001b[0m\n\u001b[1;32m----> 4\u001b[1;33m     \u001b[1;32mif\u001b[0m \u001b[0mi\u001b[0m\u001b[1;33m<\u001b[0m\u001b[0ms\u001b[0m\u001b[1;33m:\u001b[0m\u001b[1;33m\u001b[0m\u001b[1;33m\u001b[0m\u001b[0m\n\u001b[0m\u001b[0;32m      5\u001b[0m         \u001b[0ms\u001b[0m\u001b[1;33m=\u001b[0m\u001b[0mi\u001b[0m\u001b[1;33m\u001b[0m\u001b[1;33m\u001b[0m\u001b[0m\n\u001b[0;32m      6\u001b[0m \u001b[0mprint\u001b[0m\u001b[1;33m(\u001b[0m\u001b[0ms\u001b[0m\u001b[1;33m)\u001b[0m\u001b[1;33m\u001b[0m\u001b[1;33m\u001b[0m\u001b[0m\n",
      "\u001b[1;31mTypeError\u001b[0m: '<' not supported between instances of 'int' and 'list'"
     ]
    }
   ],
   "source": [
    "n=[10,20,50,60]\n",
    "s=0\n",
    "for i in n:\n",
    "    if i<s:\n",
    "        s=i\n",
    "print(s)        "
   ]
  },
  {
   "cell_type": "code",
   "execution_count": 8,
   "id": "82005c8f",
   "metadata": {},
   "outputs": [
    {
     "name": "stdout",
     "output_type": "stream",
     "text": [
      "0\n"
     ]
    }
   ],
   "source": [
    "a=[10,20,30,100,60,90]\n",
    "s=0\n",
    "for i in a:\n",
    "    if i<s:\n",
    "        s=i\n",
    "print(s) "
   ]
  },
  {
   "cell_type": "code",
   "execution_count": 12,
   "id": "dd682cea",
   "metadata": {},
   "outputs": [
    {
     "name": "stdout",
     "output_type": "stream",
     "text": [
      "5\n"
     ]
    }
   ],
   "source": [
    "a=[10,20,5,20,6,10,50]\n",
    "for i in range(0,len(a)):\n",
    "    for j in range(0,i+1):\n",
    "           if a[i]<a[j]:\n",
    "                t=a[i]\n",
    "                a[i]=a[j]\n",
    "                a[j]=t\n",
    "print(a[0])\n"
   ]
  },
  {
   "cell_type": "code",
   "execution_count": 14,
   "id": "09047aae",
   "metadata": {},
   "outputs": [
    {
     "name": "stdout",
     "output_type": "stream",
     "text": [
      "50\n"
     ]
    }
   ],
   "source": [
    "a=[10,20,5,20,6,10,50]\n",
    "for i in range(0,len(a)):\n",
    "    for j in range(0,i+1):\n",
    "           if a[i]>a[j]:\n",
    "                t=a[i]\n",
    "                a[i]=a[j]\n",
    "                a[j]=t\n",
    "print(a[0])"
   ]
  },
  {
   "cell_type": "code",
   "execution_count": 35,
   "id": "f0fee1af",
   "metadata": {},
   "outputs": [],
   "source": [
    "class Vehicle:\n",
    "    def __init__(self,milage,cost):\n",
    "        self.milage=milage\n",
    "        self.cost=cost\n",
    "    def show(self):\n",
    "        print(\"Milage\",self.milage)\n",
    "        print(\"cost\",self.cost)\n",
    "        print(\"I m vehicle\")\n",
    "class Car:\n",
    "    def __init__(self,milage,cost,tyres,hp):\n",
    "        super().__init__(milage,cost)\n",
    "        self.tyres=tyres\n",
    "        self.hp=hp\n",
    "    def show(self):\n",
    "        print(\"Milage\",self.milage)\n",
    "        print(\"cost\",self.cost)\n",
    "        print(\"I m vehicle\")\n"
   ]
  },
  {
   "cell_type": "code",
   "execution_count": 34,
   "id": "7dcb5aee",
   "metadata": {},
   "outputs": [],
   "source": [
    "v=Vehicle(200,1225) "
   ]
  },
  {
   "cell_type": "code",
   "execution_count": null,
   "id": "e8a2c219",
   "metadata": {},
   "outputs": [],
   "source": [
    "v1=Car(600,12000,8,500)"
   ]
  },
  {
   "cell_type": "code",
   "execution_count": 33,
   "id": "38a7d204",
   "metadata": {},
   "outputs": [
    {
     "name": "stdout",
     "output_type": "stream",
     "text": [
      "Milage 200\n",
      "cost 1225\n",
      "I m vehicle\n"
     ]
    }
   ],
   "source": [
    "v1.show()"
   ]
  },
  {
   "cell_type": "code",
   "execution_count": 36,
   "id": "ae975832",
   "metadata": {},
   "outputs": [
    {
     "name": "stdout",
     "output_type": "stream",
     "text": [
      "chinmayyyy\n"
     ]
    }
   ],
   "source": [
    "#Multiple Inheritance\n",
    "class parent1:\n",
    "    def string_one(self,str1):\n",
    "        self.str1=str1\n",
    "    def show_str1(self):\n",
    "        return self.str1\n",
    "class parent2:\n",
    "    def string_two(self,str2):\n",
    "        self.str2=str2\n",
    "    def show_str2(self):\n",
    "        return self.str2\n",
    "class child(parent1,parent2):\n",
    "    def string_three(self,str3):\n",
    "        self.str3=str3\n",
    "    def show_str3(self):\n",
    "        return self.str3\n",
    "c=child()\n",
    "c.string_one(\"chinmayyyy\")\n",
    "print(c.show_str1())"
   ]
  },
  {
   "cell_type": "code",
   "execution_count": null,
   "id": "103dcffe",
   "metadata": {},
   "outputs": [],
   "source": [
    "class Parent:\n",
    "    def get_name(self,name):\n",
    "        self.name=name\n",
    "    def show_name(self):\n",
    "        return self.name"
   ]
  },
  {
   "cell_type": "code",
   "execution_count": null,
   "id": "b581e9f0",
   "metadata": {},
   "outputs": [],
   "source": [
    "class Child(Parent):\n",
    "    def get_age(self,age):\n",
    "        self.age=age\n",
    "    def show_age(self):\n",
    "        return self.age"
   ]
  },
  {
   "cell_type": "code",
   "execution_count": null,
   "id": "5c1c2d3b",
   "metadata": {},
   "outputs": [],
   "source": [
    "class Grandchild(child):\n",
    "    def get_gender(self,gender):\n",
    "        self.gender=gender\n",
    "    def show_gender(self):\n",
    "        return self.gender"
   ]
  },
  {
   "cell_type": "code",
   "execution_count": null,
   "id": "f4b5aeab",
   "metadata": {},
   "outputs": [],
   "source": [
    "#Multilevel Inheritance\n",
    "\n",
    "class Parent:\n",
    "    def get_name(self,name):\n",
    "        self.name=name\n",
    "    def show_name(self):\n",
    "        return self.name\n",
    "    \n",
    "class Child(Parent):\n",
    "    def get_age(self,age):\n",
    "        self.age=age\n",
    "    def show_age(self):\n",
    "        return self.age\n",
    "\n",
    "class GrandChild(Child):\n",
    "    def get_gender(self,gender):\n",
    "        self.gender=gender\n",
    "    def show_gender(self):\n",
    "        return self.gender\n",
    "    \n",
    "g=GrandChild()\n",
    "g.get_gender(55)\n",
    "g.get_name(\"Rishabh\")\n",
    "g.get_age(99)\n",
    "print(g.show_gender())\n",
    "print(g.show_age())\n",
    "print(g.show_name())"
   ]
  },
  {
   "cell_type": "code",
   "execution_count": 51,
   "id": "0fa4b1b3",
   "metadata": {},
   "outputs": [
    {
     "name": "stdout",
     "output_type": "stream",
     "text": [
      "my name is chinmay salary is 2555 and role is student\n"
     ]
    }
   ],
   "source": [
    "class Employee:\n",
    "    def __init__(self,name,salary,role):\n",
    "        self.name=name\n",
    "        self.salary=salary\n",
    "        self.role=role\n",
    "    def Printdetails(self):\n",
    "        return f'my name is {self.name} salary is {self.salary} and role is {self.role}'\n",
    "\n",
    "c=Employee(\"chinmay\",2555,'student')\n",
    "print(c.Printdetails())"
   ]
  },
  {
   "cell_type": "code",
   "execution_count": null,
   "id": "455698a3",
   "metadata": {},
   "outputs": [],
   "source": []
  },
  {
   "cell_type": "code",
   "execution_count": null,
   "id": "d2331192",
   "metadata": {},
   "outputs": [],
   "source": []
  },
  {
   "cell_type": "code",
   "execution_count": null,
   "id": "36eebea3",
   "metadata": {},
   "outputs": [],
   "source": []
  }
 ],
 "metadata": {
  "kernelspec": {
   "display_name": "Python 3 (ipykernel)",
   "language": "python",
   "name": "python3"
  },
  "language_info": {
   "codemirror_mode": {
    "name": "ipython",
    "version": 3
   },
   "file_extension": ".py",
   "mimetype": "text/x-python",
   "name": "python",
   "nbconvert_exporter": "python",
   "pygments_lexer": "ipython3",
   "version": "3.9.13"
  }
 },
 "nbformat": 4,
 "nbformat_minor": 5
}
